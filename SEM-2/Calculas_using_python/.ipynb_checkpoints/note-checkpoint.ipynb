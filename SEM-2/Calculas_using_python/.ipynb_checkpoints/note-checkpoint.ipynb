{
 "cells": [
  {
   "cell_type": "code",
   "execution_count": 2,
   "id": "fef14b2c-c0be-4570-9e8a-eab172e804ab",
   "metadata": {},
   "outputs": [
    {
     "name": "stdout",
     "output_type": "stream",
     "text": [
      "1 oo -oo zoo 0\n"
     ]
    }
   ],
   "source": [
    "from sympy import *\n",
    "\n",
    "x = Symbol('x')\n",
    "a = limit(sin(x)/x, x,0)\n",
    "b = limit(1/x, x, 0)\n",
    "c = limit(1/x,x,0, dir='-')\n",
    "d = limit(1/x,x,0, dir='+-')\n",
    "e = limit(1/x,x,oo)\n",
    "print(a,b,c,d,e)"
   ]
  },
  {
   "cell_type": "code",
   "execution_count": 3,
   "id": "486f9db8-554d-44cd-8903-6bd3366e586e",
   "metadata": {},
   "outputs": [
    {
     "data": {
      "text/latex": [
       "$\\displaystyle 1 - \\frac{x^{2}}{2} + \\frac{x^{4}}{24} + O\\left(x^{6}\\right)$"
      ],
      "text/plain": [
       "1 - x**2/2 + x**4/24 + O(x**6)"
      ]
     },
     "execution_count": 3,
     "metadata": {},
     "output_type": "execute_result"
    }
   ],
   "source": [
    "series(cos(x),x)"
   ]
  },
  {
   "cell_type": "code",
   "execution_count": 7,
   "id": "96ba176d-ca1f-40c3-ad0b-ea5427f9a8b7",
   "metadata": {},
   "outputs": [
    {
     "data": {
      "text/latex": [
       "$\\displaystyle \\tan{\\left(2 \\right)} + \\left(1 + \\tan^{2}{\\left(2 \\right)}\\right) \\left(x - 2\\right) + \\left(x - 2\\right)^{2} \\left(\\tan^{3}{\\left(2 \\right)} + \\tan{\\left(2 \\right)}\\right) + \\left(x - 2\\right)^{3} \\cdot \\left(\\frac{1}{3} + \\frac{4 \\tan^{2}{\\left(2 \\right)}}{3} + \\tan^{4}{\\left(2 \\right)}\\right) + \\left(x - 2\\right)^{4} \\left(\\tan^{5}{\\left(2 \\right)} + \\frac{5 \\tan^{3}{\\left(2 \\right)}}{3} + \\frac{2 \\tan{\\left(2 \\right)}}{3}\\right) + \\left(x - 2\\right)^{5} \\cdot \\left(\\frac{2}{15} + \\frac{17 \\tan^{2}{\\left(2 \\right)}}{15} + 2 \\tan^{4}{\\left(2 \\right)} + \\tan^{6}{\\left(2 \\right)}\\right) + O\\left(\\left(x - 2\\right)^{6}; x\\rightarrow 2\\right)$"
      ],
      "text/plain": [
       "tan(2) + (1 + tan(2)**2)*(x - 2) + (x - 2)**2*(tan(2)**3 + tan(2)) + (x - 2)**3*(1/3 + 4*tan(2)**2/3 + tan(2)**4) + (x - 2)**4*(tan(2)**5 + 5*tan(2)**3/3 + 2*tan(2)/3) + (x - 2)**5*(2/15 + 17*tan(2)**2/15 + 2*tan(2)**4 + tan(2)**6) + O((x - 2)**6, (x, 2))"
      ]
     },
     "execution_count": 7,
     "metadata": {},
     "output_type": "execute_result"
    }
   ],
   "source": [
    "f = tan(x)\n",
    "series(f,x,2,6,'+')"
   ]
  },
  {
   "cell_type": "code",
   "execution_count": 10,
   "id": "6ce99799-a8ec-4a72-8526-84bd855a29c2",
   "metadata": {},
   "outputs": [
    {
     "data": {
      "text/latex": [
       "$\\displaystyle \\tan{\\left(2 \\right)} + \\left(1 + \\tan^{2}{\\left(2 \\right)}\\right) \\left(x - 2\\right) + \\left(x - 2\\right)^{2} \\left(\\tan^{3}{\\left(2 \\right)} + \\tan{\\left(2 \\right)}\\right) + O\\left(\\left(x - 2\\right)^{3}; x\\rightarrow 2\\right)$"
      ],
      "text/plain": [
       "tan(2) + (1 + tan(2)**2)*(x - 2) + (x - 2)**2*(tan(2)**3 + tan(2)) + O((x - 2)**3, (x, 2))"
      ]
     },
     "execution_count": 10,
     "metadata": {},
     "output_type": "execute_result"
    }
   ],
   "source": [
    "series(f,x,2,3,'+')"
   ]
  },
  {
   "cell_type": "code",
   "execution_count": 13,
   "id": "f0697e62-7805-4e39-a9bc-1de7521d8f80",
   "metadata": {},
   "outputs": [
    {
     "name": "stdin",
     "output_type": "stream",
     "text": [
      "centre of series : 5\n"
     ]
    },
    {
     "name": "stdout",
     "output_type": "stream",
     "text": [
      "                                                 9                            \n",
      "148.413159102577⋅x + 798.802500474592⋅(0.2⋅x - 1)  + 1437.84450085427⋅(0.2⋅x -\n",
      "\n",
      "   8                               7                               6          \n",
      " 1)  + 2300.55120136682⋅(0.2⋅x - 1)  + 3220.77168191356⋅(0.2⋅x - 1)  + 3864.92\n",
      "\n",
      "                     5                               4                        \n",
      "601829627⋅(0.2⋅x - 1)  + 3864.92601829627⋅(0.2⋅x - 1)  + 3091.94081463701⋅(0.2\n",
      "\n",
      "       3                               2                   \n",
      "⋅x - 1)  + 1855.16448878221⋅(0.2⋅x - 1)  - 593.652636410306\n"
     ]
    }
   ],
   "source": [
    "func = exp(x)\n",
    "\n",
    "n = 10\n",
    "a = float(input(\"centre of series :\"))\n",
    "result = func.subs(x,a)\n",
    "for i in range(1,n):\n",
    "    result += diff(func,x,i).subs(x,a)*(x-a)**i/factorial(i)\n",
    "pretty_print(result)"
   ]
  },
  {
   "cell_type": "code",
   "execution_count": null,
   "id": "db0e237f-e601-4594-aae1-6ce70f09edff",
   "metadata": {},
   "outputs": [],
   "source": []
  }
 ],
 "metadata": {
  "kernelspec": {
   "display_name": "Python 3 (ipykernel)",
   "language": "python",
   "name": "python3"
  },
  "language_info": {
   "codemirror_mode": {
    "name": "ipython",
    "version": 3
   },
   "file_extension": ".py",
   "mimetype": "text/x-python",
   "name": "python",
   "nbconvert_exporter": "python",
   "pygments_lexer": "ipython3",
   "version": "3.12.0"
  }
 },
 "nbformat": 4,
 "nbformat_minor": 5
}
